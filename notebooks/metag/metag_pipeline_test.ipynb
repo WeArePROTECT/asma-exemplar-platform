{
 "cells": [
  {
   "cell_type": "markdown",
   "id": "228e8d46-e924-4dc1-8742-0862dcffb8ee",
   "metadata": {},
   "source": [
    "![Header](../protect_team_header_logo.png)\r\n",
    "\n",
    "**Author:** \n",
    "\n",
    "**Date last edited:**"
   ]
  },
  {
   "cell_type": "markdown",
   "id": "caa0be33-5580-412e-ad11-1d6397427d1d",
   "metadata": {},
   "source": [
    "# Dependencies"
   ]
  },
  {
   "cell_type": "code",
   "execution_count": null,
   "id": "0288ce4c-a7e4-4b7d-9958-1b480a55307b",
   "metadata": {},
   "outputs": [],
   "source": []
  },
  {
   "cell_type": "markdown",
   "id": "381eb6b8-2af3-4e02-b959-ab7b4ef39b88",
   "metadata": {},
   "source": [
    "# Imports"
   ]
  },
  {
   "cell_type": "code",
   "execution_count": null,
   "id": "4398949b-9a63-4a38-8d46-3f5cf0e5844e",
   "metadata": {},
   "outputs": [],
   "source": [
    "import pandas as pd"
   ]
  },
  {
   "cell_type": "markdown",
   "id": "be2b2c3a-aaf8-41ec-8cbf-31d184169863",
   "metadata": {},
   "source": [
    "# Run MetaG Data Through Exemplar Pipeline"
   ]
  },
  {
   "cell_type": "code",
   "execution_count": 2,
   "id": "97c23205-ea5d-4dd0-9524-5ed4493a4bb2",
   "metadata": {
    "scrolled": true
   },
   "outputs": [
    {
     "name": "stdout",
     "output_type": "stream",
     "text": [
      "🚀 Dispatching metag pipeline for /app/data/asma_exemplar_data/raw/metag\n",
      "\n",
      "Renamed Files:\n",
      "\n",
      "All files renamed successfully.\n",
      "\n",
      "Running FastQC...\n",
      "application/gzip\n",
      "Started analysis of PRO2_metaG.fastq.gz\n",
      "Approx 5% complete for PRO2_metaG.fastq.gz\n",
      "Approx 10% complete for PRO2_metaG.fastq.gz\n",
      "Approx 15% complete for PRO2_metaG.fastq.gz\n",
      "Approx 20% complete for PRO2_metaG.fastq.gz\n",
      "Approx 25% complete for PRO2_metaG.fastq.gz\n",
      "Approx 30% complete for PRO2_metaG.fastq.gz\n",
      "Approx 35% complete for PRO2_metaG.fastq.gz\n",
      "Approx 40% complete for PRO2_metaG.fastq.gz\n",
      "Approx 45% complete for PRO2_metaG.fastq.gz\n",
      "Approx 50% complete for PRO2_metaG.fastq.gz\n",
      "Approx 55% complete for PRO2_metaG.fastq.gz\n",
      "Approx 60% complete for PRO2_metaG.fastq.gz\n",
      "Approx 65% complete for PRO2_metaG.fastq.gz\n",
      "Approx 70% complete for PRO2_metaG.fastq.gz\n",
      "Approx 75% complete for PRO2_metaG.fastq.gz\n",
      "Approx 80% complete for PRO2_metaG.fastq.gz\n",
      "Approx 85% complete for PRO2_metaG.fastq.gz\n",
      "Approx 90% complete for PRO2_metaG.fastq.gz\n",
      "Approx 95% complete for PRO2_metaG.fastq.gz\n",
      "Analysis complete for PRO2_metaG.fastq.gz\n",
      "application/gzip\n",
      "Started analysis of PRO3_metaG.fastq.gz\n",
      "Approx 5% complete for PRO3_metaG.fastq.gz\n",
      "Approx 10% complete for PRO3_metaG.fastq.gz\n",
      "Approx 15% complete for PRO3_metaG.fastq.gz\n",
      "Approx 20% complete for PRO3_metaG.fastq.gz\n",
      "Approx 25% complete for PRO3_metaG.fastq.gz\n",
      "Approx 30% complete for PRO3_metaG.fastq.gz\n",
      "Approx 35% complete for PRO3_metaG.fastq.gz\n",
      "Approx 40% complete for PRO3_metaG.fastq.gz\n",
      "Approx 45% complete for PRO3_metaG.fastq.gz\n",
      "Approx 50% complete for PRO3_metaG.fastq.gz\n",
      "Approx 55% complete for PRO3_metaG.fastq.gz\n",
      "Approx 60% complete for PRO3_metaG.fastq.gz\n",
      "Approx 65% complete for PRO3_metaG.fastq.gz\n",
      "Approx 70% complete for PRO3_metaG.fastq.gz\n",
      "Approx 75% complete for PRO3_metaG.fastq.gz\n",
      "Approx 80% complete for PRO3_metaG.fastq.gz\n",
      "Approx 85% complete for PRO3_metaG.fastq.gz\n",
      "Approx 90% complete for PRO3_metaG.fastq.gz\n",
      "Approx 95% complete for PRO3_metaG.fastq.gz\n",
      "Analysis complete for PRO3_metaG.fastq.gz\n",
      "application/gzip\n",
      "Started analysis of PRO5_metaG.fastq.gz\n",
      "Approx 5% complete for PRO5_metaG.fastq.gz\n",
      "Approx 10% complete for PRO5_metaG.fastq.gz\n",
      "Approx 15% complete for PRO5_metaG.fastq.gz\n",
      "Approx 20% complete for PRO5_metaG.fastq.gz\n",
      "Approx 25% complete for PRO5_metaG.fastq.gz\n",
      "Approx 30% complete for PRO5_metaG.fastq.gz\n",
      "Approx 35% complete for PRO5_metaG.fastq.gz\n",
      "Approx 40% complete for PRO5_metaG.fastq.gz\n",
      "Approx 45% complete for PRO5_metaG.fastq.gz\n",
      "Approx 50% complete for PRO5_metaG.fastq.gz\n",
      "Approx 55% complete for PRO5_metaG.fastq.gz\n",
      "Approx 60% complete for PRO5_metaG.fastq.gz\n",
      "Approx 65% complete for PRO5_metaG.fastq.gz\n",
      "Approx 70% complete for PRO5_metaG.fastq.gz\n",
      "Approx 75% complete for PRO5_metaG.fastq.gz\n",
      "Approx 80% complete for PRO5_metaG.fastq.gz\n",
      "Approx 85% complete for PRO5_metaG.fastq.gz\n",
      "Approx 90% complete for PRO5_metaG.fastq.gz\n",
      "Approx 95% complete for PRO5_metaG.fastq.gz\n",
      "Analysis complete for PRO5_metaG.fastq.gz\n",
      "application/gzip\n",
      "Started analysis of PRO8_metaG.fastq.gz\n",
      "Approx 5% complete for PRO8_metaG.fastq.gz\n",
      "Approx 10% complete for PRO8_metaG.fastq.gz\n",
      "Approx 15% complete for PRO8_metaG.fastq.gz\n",
      "Approx 20% complete for PRO8_metaG.fastq.gz\n",
      "Approx 25% complete for PRO8_metaG.fastq.gz\n",
      "Approx 30% complete for PRO8_metaG.fastq.gz\n",
      "Approx 35% complete for PRO8_metaG.fastq.gz\n",
      "Approx 40% complete for PRO8_metaG.fastq.gz\n",
      "Approx 45% complete for PRO8_metaG.fastq.gz\n",
      "Approx 50% complete for PRO8_metaG.fastq.gz\n",
      "Approx 55% complete for PRO8_metaG.fastq.gz\n",
      "Approx 60% complete for PRO8_metaG.fastq.gz\n",
      "Approx 65% complete for PRO8_metaG.fastq.gz\n",
      "Approx 70% complete for PRO8_metaG.fastq.gz\n",
      "Approx 75% complete for PRO8_metaG.fastq.gz\n",
      "Approx 80% complete for PRO8_metaG.fastq.gz\n",
      "Approx 85% complete for PRO8_metaG.fastq.gz\n",
      "Approx 90% complete for PRO8_metaG.fastq.gz\n",
      "Approx 95% complete for PRO8_metaG.fastq.gz\n",
      "Analysis complete for PRO8_metaG.fastq.gz\n",
      "Running MultiQC...\n",
      "\n",
      "\u001b[91m///\u001b[0m \u001b]8;id=823621;https://multiqc.info\u001b\\\u001b[1mMultiQC\u001b[0m\u001b]8;;\u001b\\ 🔍 \u001b[2mv1.28\u001b[0m\n",
      "\n",
      "\u001b[34m       file_search\u001b[0m | Search path: /app/data/asma_exemplar_data/raw/metag/qc\n",
      "\u001b[2K         \u001b[34msearching\u001b[0m | \u001b[90m━━━━━━━━━━━━━━━━━━━━━━━━━━━━━━━━━━━━━━━━\u001b[0m \u001b[35m100%\u001b[0m \u001b[32m8/8\u001b[0m  32m4/8\u001b[0m \u001b[2mqc/PRO3_metaG_fastqc.zip\u001b[0m\n",
      "\u001b[?25h\u001b[34m            fastqc\u001b[0m | Found 4 reports\n",
      "\u001b[34m            violin\u001b[0m | \u001b[33mTried to make table/violin plot, but had no data. pconfig: {'namespace': 'FastQC', 'id': 'fastqc_top_overrepresented_sequences_table', 'title': 'FastQC: Top overrepresented sequences', 'col1_header': 'Overrepresented sequence', 'sort_rows': False}\u001b[0m\n",
      "\u001b[34m     write_results\u001b[0m | Data        : qc_summary/multiqc_data\n",
      "\u001b[34m     write_results\u001b[0m | Report      : qc_summary/multiqc_report.html\n",
      "\u001b[34m           multiqc\u001b[0m | MultiQC complete\n",
      "Traceback (most recent call last):\n",
      "  File \"/app/scripts/metag/metag_full_qc_pipeline.py\", line 99, in <module>\n",
      "    sample_ids.update(d[\"name\"] for d in quality_data)\n",
      "  File \"/app/scripts/metag/metag_full_qc_pipeline.py\", line 99, in <genexpr>\n",
      "    sample_ids.update(d[\"name\"] for d in quality_data)\n",
      "                      ~^^^^^^^^\n",
      "TypeError: string indices must be integers, not 'str'\n",
      "Traceback (most recent call last):\n",
      "  File \"/app/scripts/metag/run_metag_pipeline.py\", line 12, in <module>\n",
      "    main()\n",
      "  File \"/app/scripts/metag/run_metag_pipeline.py\", line 9, in main\n",
      "    subprocess.run([\"python3\", \"metag_full_qc_pipeline.py\", args.input], check=True, cwd=\"/app/scripts/metag\")\n",
      "  File \"/opt/conda/lib/python3.11/subprocess.py\", line 571, in run\n",
      "    raise CalledProcessError(retcode, process.args,\n",
      "subprocess.CalledProcessError: Command '['python3', 'metag_full_qc_pipeline.py', '/app/data/asma_exemplar_data/raw/metag']' returned non-zero exit status 1.\n",
      "Traceback (most recent call last):\n",
      "  File \"/app/scripts/run_exemplar_pipeline.py\", line 32, in <module>\n",
      "    run_pipeline(args.type, args.input)\n",
      "  File \"/app/scripts/run_exemplar_pipeline.py\", line 25, in run_pipeline\n",
      "    subprocess.run([\"python\", script, \"--input\", input_path], check=True)\n",
      "  File \"/opt/conda/lib/python3.11/subprocess.py\", line 571, in run\n",
      "    raise CalledProcessError(retcode, process.args,\n",
      "subprocess.CalledProcessError: Command '['python', '/app/scripts/metag/run_metag_pipeline.py', '--input', '/app/data/asma_exemplar_data/raw/metag']' returned non-zero exit status 1.\n"
     ]
    }
   ],
   "source": [
    "!python /app/scripts/run_exemplar_pipeline.py --type metag --input /app/data/asma_exemplar_data/raw/metag"
   ]
  },
  {
   "cell_type": "markdown",
   "id": "b5b4a9c6-badf-4649-8155-83b1c6654379",
   "metadata": {},
   "source": [
    "# Run MetaG W/O FastQC and MultiQC"
   ]
  },
  {
   "cell_type": "code",
   "execution_count": 14,
   "id": "8a56dd3d-28d6-4d40-ab12-574e277bbb38",
   "metadata": {},
   "outputs": [
    {
     "name": "stdout",
     "output_type": "stream",
     "text": [
      "⚠️ Skipping file renaming, FastQC, and MultiQC (--skip-qc used)\n",
      "\n",
      "✅ QC results written to qc_flags.csv\n"
     ]
    }
   ],
   "source": [
    "!python /app/scripts/metag/metag_full_qc_pipeline.py /app/data/asma_exemplar_data/raw/metag --skip-qc"
   ]
  },
  {
   "cell_type": "markdown",
   "id": "434f8468-c091-4ae2-be8c-9ea6a72b1326",
   "metadata": {},
   "source": [
    "# Visulaize QC Results"
   ]
  },
  {
   "cell_type": "code",
   "execution_count": 15,
   "id": "e6cbd03f-b311-4b2e-b5fc-01ddfc729d95",
   "metadata": {},
   "outputs": [
    {
     "data": {
      "text/html": [
       "<div>\n",
       "<style scoped>\n",
       "    .dataframe tbody tr th:only-of-type {\n",
       "        vertical-align: middle;\n",
       "    }\n",
       "\n",
       "    .dataframe tbody tr th {\n",
       "        vertical-align: top;\n",
       "    }\n",
       "\n",
       "    .dataframe thead th {\n",
       "        text-align: right;\n",
       "    }\n",
       "</style>\n",
       "<table border=\"1\" class=\"dataframe\">\n",
       "  <thead>\n",
       "    <tr style=\"text-align: right;\">\n",
       "      <th></th>\n",
       "      <th>sample_id</th>\n",
       "      <th>median_quality</th>\n",
       "      <th>max_adapter_pct</th>\n",
       "      <th>avg_read_length</th>\n",
       "      <th>pass_quality</th>\n",
       "      <th>pass_adapters</th>\n",
       "      <th>pass_length</th>\n",
       "      <th>overall_pass</th>\n",
       "    </tr>\n",
       "  </thead>\n",
       "  <tbody>\n",
       "    <tr>\n",
       "      <th>0</th>\n",
       "      <td>PRO2_metaG</td>\n",
       "      <td>38.54</td>\n",
       "      <td>0</td>\n",
       "      <td>86.40</td>\n",
       "      <td>True</td>\n",
       "      <td>True</td>\n",
       "      <td>True</td>\n",
       "      <td>True</td>\n",
       "    </tr>\n",
       "    <tr>\n",
       "      <th>1</th>\n",
       "      <td>PRO3_metaG</td>\n",
       "      <td>39.20</td>\n",
       "      <td>0</td>\n",
       "      <td>89.00</td>\n",
       "      <td>True</td>\n",
       "      <td>True</td>\n",
       "      <td>True</td>\n",
       "      <td>True</td>\n",
       "    </tr>\n",
       "    <tr>\n",
       "      <th>2</th>\n",
       "      <td>PRO5_metaG</td>\n",
       "      <td>38.94</td>\n",
       "      <td>0</td>\n",
       "      <td>87.18</td>\n",
       "      <td>True</td>\n",
       "      <td>True</td>\n",
       "      <td>True</td>\n",
       "      <td>True</td>\n",
       "    </tr>\n",
       "    <tr>\n",
       "      <th>3</th>\n",
       "      <td>PRO8_metaG</td>\n",
       "      <td>38.92</td>\n",
       "      <td>0</td>\n",
       "      <td>88.31</td>\n",
       "      <td>True</td>\n",
       "      <td>True</td>\n",
       "      <td>True</td>\n",
       "      <td>True</td>\n",
       "    </tr>\n",
       "  </tbody>\n",
       "</table>\n",
       "</div>"
      ],
      "text/plain": [
       "    sample_id  median_quality  max_adapter_pct  avg_read_length  pass_quality  \\\n",
       "0  PRO2_metaG           38.54                0            86.40          True   \n",
       "1  PRO3_metaG           39.20                0            89.00          True   \n",
       "2  PRO5_metaG           38.94                0            87.18          True   \n",
       "3  PRO8_metaG           38.92                0            88.31          True   \n",
       "\n",
       "   pass_adapters  pass_length  overall_pass  \n",
       "0           True         True          True  \n",
       "1           True         True          True  \n",
       "2           True         True          True  \n",
       "3           True         True          True  "
      ]
     },
     "execution_count": 15,
     "metadata": {},
     "output_type": "execute_result"
    }
   ],
   "source": [
    "df = pd.read_csv(\"/app/data/asma_exemplar_data/raw/metag/qc_flags.csv\")\n",
    "df.head()"
   ]
  },
  {
   "cell_type": "markdown",
   "id": "c38331cc-9fcd-450b-becf-2de4978bcd28",
   "metadata": {
    "jp-MarkdownHeadingCollapsed": true
   },
   "source": [
    "# **END**"
   ]
  }
 ],
 "metadata": {
  "kernelspec": {
   "display_name": "Python 3 (ipykernel)",
   "language": "python",
   "name": "python3"
  },
  "language_info": {
   "codemirror_mode": {
    "name": "ipython",
    "version": 3
   },
   "file_extension": ".py",
   "mimetype": "text/x-python",
   "name": "python",
   "nbconvert_exporter": "python",
   "pygments_lexer": "ipython3",
   "version": "3.11.6"
  }
 },
 "nbformat": 4,
 "nbformat_minor": 5
}
