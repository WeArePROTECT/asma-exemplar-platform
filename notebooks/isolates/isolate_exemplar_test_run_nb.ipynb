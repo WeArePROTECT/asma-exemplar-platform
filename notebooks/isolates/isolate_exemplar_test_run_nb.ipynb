{
 "cells": [
  {
   "cell_type": "markdown",
   "id": "228e8d46-e924-4dc1-8742-0862dcffb8ee",
   "metadata": {},
   "source": [
    "![Header](../protect_team_header_logo.png)\r\n",
    "\n",
    "\n",
    "**Author:** Spencer Long\n",
    "\n",
    "**Date last edited:** May 14, 2025"
   ]
  },
  {
   "cell_type": "markdown",
   "id": "caa0be33-5580-412e-ad11-1d6397427d1d",
   "metadata": {},
   "source": [
    "# Dependencies"
   ]
  },
  {
   "cell_type": "code",
   "execution_count": null,
   "id": "bcadd4cb-4c97-4fb9-b16a-afd8bfe958d4",
   "metadata": {},
   "outputs": [],
   "source": []
  },
  {
   "cell_type": "markdown",
   "id": "381eb6b8-2af3-4e02-b959-ab7b4ef39b88",
   "metadata": {},
   "source": [
    "# Imports"
   ]
  },
  {
   "cell_type": "code",
   "execution_count": 14,
   "id": "4398949b-9a63-4a38-8d46-3f5cf0e5844e",
   "metadata": {},
   "outputs": [],
   "source": [
    "import pandas as pd"
   ]
  },
  {
   "cell_type": "markdown",
   "id": "08b45602-a7a3-4452-90e8-73fdbde750f8",
   "metadata": {},
   "source": [
    "# Test Run Isolate Data With Exemplar Pipeline"
   ]
  },
  {
   "cell_type": "code",
   "execution_count": 1,
   "id": "22dcfc59-3b4d-44c8-a635-a7f0e0899aba",
   "metadata": {},
   "outputs": [
    {
     "name": "stdout",
     "output_type": "stream",
     "text": [
      "🚀 Dispatching isolates pipeline for /app/data/asma_exemplar_data/raw/isolates\n",
      "\n",
      "🚀 Running pipeline for ASMA-1\n",
      "✅ Validation complete. Summary saved to '/app/data/asma_exemplar_data/processed/isolates/isolate_qc_summary.csv'\n",
      "✅ BUSCO + Assembly summaries saved to '/app/data/asma_exemplar_data/processed/isolates/busco_summary.csv'\n",
      "✅ .faa summaries saved to '/app/data/asma_exemplar_data/processed/isolates/faa_summary.csv'\n",
      "✅ .gff summaries saved to '/app/data/asma_exemplar_data/processed/isolates/gff_summary.csv'\n",
      "✅ AMR matrix saved.\n",
      "✅ VF matrix saved.\n",
      "✅ Master isolate summary saved to: /app/data/asma_exemplar_data/processed/isolates/isolate_master_summary.csv\n",
      "📄 Report-friendly isolate summary saved to: /app/data/asma_exemplar_data/processed/isolates/isolate_report_summary.csv\n",
      "✅ Completed: ASMA-1\n",
      "\n",
      "📄 Pipeline run log saved to: /app/data/asma_exemplar_data/processed/isolates/isolate_pipeline_log_20250514_234245.csv\n"
     ]
    }
   ],
   "source": [
    "!python /app/scripts/run_exemplar_pipeline.py --type isolates --input /app/data/asma_exemplar_data/raw/isolates"
   ]
  },
  {
   "cell_type": "markdown",
   "id": "c38331cc-9fcd-450b-becf-2de4978bcd28",
   "metadata": {},
   "source": [
    "# **END**"
   ]
  }
 ],
 "metadata": {
  "kernelspec": {
   "display_name": "Python 3 (ipykernel)",
   "language": "python",
   "name": "python3"
  },
  "language_info": {
   "codemirror_mode": {
    "name": "ipython",
    "version": 3
   },
   "file_extension": ".py",
   "mimetype": "text/x-python",
   "name": "python",
   "nbconvert_exporter": "python",
   "pygments_lexer": "ipython3",
   "version": "3.11.6"
  }
 },
 "nbformat": 4,
 "nbformat_minor": 5
}
