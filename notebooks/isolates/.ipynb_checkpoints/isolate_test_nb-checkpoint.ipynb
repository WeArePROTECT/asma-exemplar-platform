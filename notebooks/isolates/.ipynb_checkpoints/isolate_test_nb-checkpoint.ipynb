{
 "cells": [
  {
   "cell_type": "markdown",
   "id": "228e8d46-e924-4dc1-8742-0862dcffb8ee",
   "metadata": {},
   "source": [
    "![Header](protect_team_header_logo.png)\n",
    "\n",
    "**Author:** \n",
    "\n",
    "**Date last edited:**"
   ]
  },
  {
   "cell_type": "markdown",
   "id": "caa0be33-5580-412e-ad11-1d6397427d1d",
   "metadata": {},
   "source": [
    "# Dependencies"
   ]
  },
  {
   "cell_type": "code",
   "execution_count": null,
   "id": "0288ce4c-a7e4-4b7d-9958-1b480a55307b",
   "metadata": {},
   "outputs": [],
   "source": []
  },
  {
   "cell_type": "markdown",
   "id": "381eb6b8-2af3-4e02-b959-ab7b4ef39b88",
   "metadata": {},
   "source": [
    "# Imports"
   ]
  },
  {
   "cell_type": "code",
   "execution_count": null,
   "id": "4398949b-9a63-4a38-8d46-3f5cf0e5844e",
   "metadata": {},
   "outputs": [],
   "source": []
  },
  {
   "cell_type": "markdown",
   "id": "c38331cc-9fcd-450b-becf-2de4978bcd28",
   "metadata": {},
   "source": [
    "# **END**"
   ]
  }
 ],
 "metadata": {
  "kernelspec": {
   "display_name": "Python 3 (ipykernel)",
   "language": "python",
   "name": "python3"
  },
  "language_info": {
   "codemirror_mode": {
    "name": "ipython",
    "version": 3
   },
   "file_extension": ".py",
   "mimetype": "text/x-python",
   "name": "python",
   "nbconvert_exporter": "python",
   "pygments_lexer": "ipython3",
   "version": "3.11.6"
  }
 },
 "nbformat": 4,
 "nbformat_minor": 5
}
