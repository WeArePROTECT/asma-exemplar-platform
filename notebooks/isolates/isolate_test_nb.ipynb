{
 "cells": [
  {
   "cell_type": "markdown",
   "id": "228e8d46-e924-4dc1-8742-0862dcffb8ee",
   "metadata": {},
   "source": [
    "![Header](../protect_team_header_logo.png)\r\n",
    "\n",
    "**Author:** Spencer Long\n",
    "\n",
    "**Date last edited:** May 14, 2025"
   ]
  },
  {
   "cell_type": "markdown",
   "id": "caa0be33-5580-412e-ad11-1d6397427d1d",
   "metadata": {},
   "source": [
    "# Dependencies"
   ]
  },
  {
   "cell_type": "code",
   "execution_count": 15,
   "id": "0288ce4c-a7e4-4b7d-9958-1b480a55307b",
   "metadata": {},
   "outputs": [
    {
     "data": {
      "text/plain": [
       "'/app/notebooks/isolates'"
      ]
     },
     "execution_count": 15,
     "metadata": {},
     "output_type": "execute_result"
    }
   ],
   "source": [
    "import os\n",
    "os.getcwd()"
   ]
  },
  {
   "cell_type": "markdown",
   "id": "381eb6b8-2af3-4e02-b959-ab7b4ef39b88",
   "metadata": {},
   "source": [
    "# Imports"
   ]
  },
  {
   "cell_type": "code",
   "execution_count": 14,
   "id": "4398949b-9a63-4a38-8d46-3f5cf0e5844e",
   "metadata": {},
   "outputs": [],
   "source": [
    "import pandas as pd"
   ]
  },
  {
   "cell_type": "markdown",
   "id": "08b45602-a7a3-4452-90e8-73fdbde750f8",
   "metadata": {},
   "source": [
    "# Test Run Isolate Pipeline "
   ]
  },
  {
   "cell_type": "code",
   "execution_count": 12,
   "id": "9abe7b73-4a51-4b2f-9517-24fae3d99c87",
   "metadata": {},
   "outputs": [
    {
     "name": "stdout",
     "output_type": "stream",
     "text": [
      "\n",
      "🚀 Running pipeline for ASMA-1\n",
      "✅ Validation complete. Summary saved to '/app/data/asma_exemplar_data/processed/isolates/isolate_qc_summary.csv'\n",
      "✅ BUSCO + Assembly summaries saved to '/app/data/asma_exemplar_data/processed/isolates/busco_summary.csv'\n",
      "✅ .faa summaries saved to '/app/data/asma_exemplar_data/processed/isolates/faa_summary.csv'\n",
      "✅ .gff summaries saved to '/app/data/asma_exemplar_data/processed/isolates/gff_summary.csv'\n",
      "✅ AMR matrix saved.\n",
      "✅ VF matrix saved.\n",
      "✅ Master isolate summary saved to: /app/data/asma_exemplar_data/processed/isolates/isolate_master_summary.csv\n",
      "📄 Report-friendly isolate summary saved to: /app/data/asma_exemplar_data/processed/isolates/isolate_report_summary.csv\n",
      "✅ Completed: ASMA-1\n",
      "\n",
      "📄 Pipeline run log saved to: /app/data/asma_exemplar_data/processed/isolates/isolate_pipeline_log_20250514_232924.csv\n"
     ]
    }
   ],
   "source": [
    "!python /app/scripts/isolate/run_isolate_pipeline.py --input /app/data/asma_exemplar_data/raw/isolates"
   ]
  },
  {
   "cell_type": "code",
   "execution_count": 13,
   "id": "c9859188-789e-49d5-a83e-1ef630d3b70c",
   "metadata": {},
   "outputs": [
    {
     "data": {
      "text/html": [
       "<div>\n",
       "<style scoped>\n",
       "    .dataframe tbody tr th:only-of-type {\n",
       "        vertical-align: middle;\n",
       "    }\n",
       "\n",
       "    .dataframe tbody tr th {\n",
       "        vertical-align: top;\n",
       "    }\n",
       "\n",
       "    .dataframe thead th {\n",
       "        text-align: right;\n",
       "    }\n",
       "</style>\n",
       "<table border=\"1\" class=\"dataframe\">\n",
       "  <thead>\n",
       "    <tr style=\"text-align: right;\">\n",
       "      <th></th>\n",
       "      <th>isolate_id</th>\n",
       "      <th>submitter</th>\n",
       "      <th>status</th>\n",
       "      <th>Complete (%)</th>\n",
       "      <th>Missing (%)</th>\n",
       "      <th>CDS</th>\n",
       "      <th>tRNA</th>\n",
       "      <th>rRNA</th>\n",
       "      <th>Total Proteins</th>\n",
       "      <th>Average Protein Length</th>\n",
       "      <th>num_amr_genes</th>\n",
       "      <th>num_vf_genes</th>\n",
       "      <th>many_short_proteins</th>\n",
       "    </tr>\n",
       "  </thead>\n",
       "  <tbody>\n",
       "    <tr>\n",
       "      <th>0</th>\n",
       "      <td>ASMA-1</td>\n",
       "      <td>Alex Styer</td>\n",
       "      <td>OK</td>\n",
       "      <td>99.1</td>\n",
       "      <td>0.0</td>\n",
       "      <td>2222</td>\n",
       "      <td>49</td>\n",
       "      <td>4</td>\n",
       "      <td>2222</td>\n",
       "      <td>329.05</td>\n",
       "      <td>0.0</td>\n",
       "      <td>1123</td>\n",
       "      <td>False</td>\n",
       "    </tr>\n",
       "  </tbody>\n",
       "</table>\n",
       "</div>"
      ],
      "text/plain": [
       "  isolate_id   submitter status  Complete (%)  Missing (%)   CDS  tRNA  rRNA  \\\n",
       "0     ASMA-1  Alex Styer     OK          99.1          0.0  2222    49     4   \n",
       "\n",
       "   Total Proteins  Average Protein Length  num_amr_genes  num_vf_genes  \\\n",
       "0            2222                  329.05            0.0          1123   \n",
       "\n",
       "   many_short_proteins  \n",
       "0                False  "
      ]
     },
     "execution_count": 13,
     "metadata": {},
     "output_type": "execute_result"
    }
   ],
   "source": [
    "df = pd.read_csv(\"/app/data/asma_exemplar_data/processed/isolates/isolate_report_summary.csv\")\n",
    "df.head()"
   ]
  },
  {
   "cell_type": "markdown",
   "id": "c38331cc-9fcd-450b-becf-2de4978bcd28",
   "metadata": {},
   "source": [
    "# **END**"
   ]
  }
 ],
 "metadata": {
  "kernelspec": {
   "display_name": "Python 3 (ipykernel)",
   "language": "python",
   "name": "python3"
  },
  "language_info": {
   "codemirror_mode": {
    "name": "ipython",
    "version": 3
   },
   "file_extension": ".py",
   "mimetype": "text/x-python",
   "name": "python",
   "nbconvert_exporter": "python",
   "pygments_lexer": "ipython3",
   "version": "3.11.6"
  }
 },
 "nbformat": 4,
 "nbformat_minor": 5
}
